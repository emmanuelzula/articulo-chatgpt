{
 "cells": [
  {
   "attachments": {},
   "cell_type": "markdown",
   "metadata": {},
   "source": [
    "# Creación de textos de divulgación científica con Chat Gpt"
   ]
  },
  {
   "attachments": {},
   "cell_type": "markdown",
   "metadata": {},
   "source": [
    "## Conección con la API de openai"
   ]
  },
  {
   "cell_type": "code",
   "execution_count": 1,
   "metadata": {},
   "outputs": [],
   "source": [
    "import openai\n",
    "\n",
    "from dotenv import load_dotenv, find_dotenv\n",
    "_ = load_dotenv(find_dotenv())\n",
    "\n",
    "api_key=open(\"api-key.txt\",mode=\"r\")\n",
    "openai.api_key  = api_key.read()\n",
    "api_key.close()\n",
    "\n",
    "articulo=open('articulo-divulgativo.txt',\"w\")"
   ]
  },
  {
   "attachments": {},
   "cell_type": "markdown",
   "metadata": {},
   "source": [
    "La api-key se puede generar u obtener en la página https://platform.openai.com/account/api-keys. Esta clave se debe colocar en un archivo llamado api-key.txt en la misma carpeta del notebook."
   ]
  },
  {
   "attachments": {},
   "cell_type": "markdown",
   "metadata": {},
   "source": [
    "## Definición de los hiper-parametros de chatgpt"
   ]
  },
  {
   "cell_type": "code",
   "execution_count": 2,
   "metadata": {},
   "outputs": [],
   "source": [
    "def get_completion(prompt, model=\"gpt-3.5-turbo\"):\n",
    "    messages = [{\"role\": \"user\", \"content\": prompt}]\n",
    "    response = openai.ChatCompletion.create(\n",
    "        model=model,\n",
    "        messages=messages,\n",
    "        temperature=0, # this is the degree of randomness of the model's output\n",
    "        max_tokens=3500\n",
    "    )\n",
    "    return response.choices[0].message[\"content\"]"
   ]
  },
  {
   "attachments": {},
   "cell_type": "markdown",
   "metadata": {},
   "source": [
    "## Definición del tema y estructura del articulo de divulgación"
   ]
  },
  {
   "cell_type": "code",
   "execution_count": 3,
   "metadata": {},
   "outputs": [
    {
     "name": "stdout",
     "output_type": "stream",
     "text": [
      "1. Introducción\n",
      "- Breve explicación de qué es ChatGPT y su popularidad en la actualidad\n",
      "- Mención de la importancia de conocer las limitaciones de esta tecnología\n",
      "\n",
      "2. Limitaciones en la comprensión del lenguaje natural\n",
      "- Explicación de cómo ChatGPT puede tener dificultades para entender el contexto y la intención detrás de las palabras del usuario\n",
      "- Ejemplos de situaciones en las que ChatGPT puede fallar en la comprensión del lenguaje natural\n",
      "\n",
      "3. Limitaciones en la generación de respuestas coherentes\n",
      "- Descripción de cómo ChatGPT puede generar respuestas que no tienen sentido o que no están relacionadas con la pregunta del usuario\n",
      "- Ejemplos de respuestas incoherentes generadas por ChatGPT\n",
      "\n",
      "4. Limitaciones en la personalización de las respuestas\n",
      "- Explicación de cómo ChatGPT no puede adaptarse a las preferencias y necesidades específicas de cada usuario\n",
      "- Ejemplos de situaciones en las que ChatGPT no puede proporcionar respuestas personalizadas\n",
      "\n",
      "5. Conclusiones y reflexiones finales\n",
      "- Recapitulación de las limitaciones de ChatGPT\n",
      "- Reflexión sobre la importancia de seguir investigando y mejorando la tecnología de chatbots\n",
      "- Mención de otras tecnologías de inteligencia artificial que pueden superar las limitaciones de ChatGPT en el futuro.\n"
     ]
    }
   ],
   "source": [
    "prompt = f\"\"\"\n",
    "Eres un divulgador en inteligencia artificial, dame la estructura de un articulo de divulgación sobre las limitaciones de chatgpt en cinco secciones enumeradas del 1 al 5, genera la estructura en formato outline.\n",
    "\"\"\"\n",
    "response = get_completion(prompt,)\n",
    "print(response)\n",
    "estructura=response"
   ]
  },
  {
   "attachments": {},
   "cell_type": "markdown",
   "metadata": {},
   "source": [
    "## Elección de la sección a desarrollar"
   ]
  },
  {
   "cell_type": "code",
   "execution_count": 4,
   "metadata": {},
   "outputs": [
    {
     "name": "stdout",
     "output_type": "stream",
     "text": [
      "```1. Introducción\n",
      "- Breve explicación de qué es ChatGPT y su popularidad en la actualidad\n",
      "- Mención de la importancia de conocer las limitaciones de esta tecnología```\n"
     ]
    }
   ],
   "source": [
    "prompt = f\"\"\"\n",
    "El texto entre triples comillas esta dividida en cinco secciones enumeradas del 1 al 5. Elimina todas las secciones excepto la 1\n",
    "```{estructura}```\n",
    "\"\"\"\n",
    "response = get_completion(prompt,)\n",
    "print(response)\n",
    "seccion1=response"
   ]
  },
  {
   "attachments": {},
   "cell_type": "markdown",
   "metadata": {},
   "source": [
    "## Desarrollo de la sección elegida"
   ]
  },
  {
   "cell_type": "code",
   "execution_count": 5,
   "metadata": {},
   "outputs": [
    {
     "name": "stdout",
     "output_type": "stream",
     "text": [
      "En la actualidad, ChatGPT se ha convertido en una herramienta muy popular para la comunicación en línea. Esta tecnología de chatbot utiliza inteligencia artificial para interactuar con los usuarios y brindar respuestas a sus preguntas. Sin embargo, es importante tener en cuenta que, aunque ChatGPT puede ser muy útil, también tiene sus limitaciones. Es fundamental conocer estas limitaciones para poder utilizar esta tecnología de manera efectiva y evitar posibles problemas.\n"
     ]
    },
    {
     "data": {
      "text/plain": [
       "477"
      ]
     },
     "execution_count": 5,
     "metadata": {},
     "output_type": "execute_result"
    }
   ],
   "source": [
    "prompt = f\"\"\"\n",
    "Genera un texto a partir de los puntos que se encuentran en el texto entre triples comillas\n",
    "```{seccion1}```\n",
    "\"\"\"\n",
    "response = get_completion(prompt,)\n",
    "print(response)\n",
    "seccion1=response\n",
    "articulo.write(seccion1+\"\\n\")"
   ]
  },
  {
   "attachments": {},
   "cell_type": "markdown",
   "metadata": {},
   "source": [
    "# Desarrollo y selección de las demás secciones"
   ]
  },
  {
   "cell_type": "code",
   "execution_count": 6,
   "metadata": {},
   "outputs": [
    {
     "name": "stdout",
     "output_type": "stream",
     "text": [
      "2. Limitaciones en la comprensión del lenguaje natural\n",
      "- Explicación de cómo ChatGPT puede tener dificultades para entender el contexto y la intención detrás de las palabras del usuario\n",
      "- Ejemplos de situaciones en las que ChatGPT puede fallar en la comprensión del lenguaje natural\n"
     ]
    },
    {
     "data": {
      "text/plain": [
       "1595"
      ]
     },
     "execution_count": 6,
     "metadata": {},
     "output_type": "execute_result"
    }
   ],
   "source": [
    "prompt = f\"\"\"\n",
    "El texto entre triples comillas esta dividida en cinco secciones enumeradas del 1 al 5. Elimina todas las secciones excepto la 2\n",
    "```{estructura}```\n",
    "\"\"\"\n",
    "response = get_completion(prompt,)\n",
    "print(response)\n",
    "seccion2=response\n",
    "\n",
    "prompt = f\"\"\"\n",
    "Genera un texto a partir de los puntos que se encuentran en el texto entre triples comillas\n",
    "```{seccion2}```\n",
    "\"\"\"\n",
    "response = get_completion(prompt,)\n",
    "seccion2=response\n",
    "articulo.write(seccion2+\"\\n\")"
   ]
  },
  {
   "cell_type": "code",
   "execution_count": 7,
   "metadata": {},
   "outputs": [
    {
     "name": "stdout",
     "output_type": "stream",
     "text": [
      "3. Limitaciones en la generación de respuestas coherentes\n",
      "- Descripción de cómo ChatGPT puede generar respuestas que no tienen sentido o que no están relacionadas con la pregunta del usuario\n",
      "- Ejemplos de respuestas incoherentes generadas por ChatGPT\n"
     ]
    },
    {
     "data": {
      "text/plain": [
       "1144"
      ]
     },
     "execution_count": 7,
     "metadata": {},
     "output_type": "execute_result"
    }
   ],
   "source": [
    "prompt = f\"\"\"\n",
    "El texto entre triples comillas esta dividida en cinco secciones enumeradas del 1 al 5. Elimina todas las secciones excepto la 3\n",
    "```{estructura}```\n",
    "\"\"\"\n",
    "response = get_completion(prompt,)\n",
    "print(response)\n",
    "seccion3=response\n",
    "\n",
    "prompt = f\"\"\"\n",
    "Genera un texto a partir de los puntos que se encuentran en el texto entre triples comillas\n",
    "```{seccion3}```\n",
    "\"\"\"\n",
    "response = get_completion(prompt,)\n",
    "seccion3=response\n",
    "articulo.write(seccion3+\"\\n\")"
   ]
  },
  {
   "cell_type": "code",
   "execution_count": 8,
   "metadata": {},
   "outputs": [
    {
     "name": "stdout",
     "output_type": "stream",
     "text": [
      "4. Limitaciones en la personalización de las respuestas\n",
      "- Explicación de cómo ChatGPT no puede adaptarse a las preferencias y necesidades específicas de cada usuario\n",
      "- Ejemplos de situaciones en las que ChatGPT no puede proporcionar respuestas personalizadas\n"
     ]
    },
    {
     "data": {
      "text/plain": [
       "1646"
      ]
     },
     "execution_count": 8,
     "metadata": {},
     "output_type": "execute_result"
    }
   ],
   "source": [
    "prompt = f\"\"\"\n",
    "El texto entre triples comillas esta dividida en cinco secciones enumeradas del 1 al 5. Elimina todas las secciones excepto la 4\n",
    "```{estructura}```\n",
    "\"\"\"\n",
    "response = get_completion(prompt,)\n",
    "print(response)\n",
    "seccion4=response\n",
    "\n",
    "prompt = f\"\"\"\n",
    "Genera un texto a partir de los puntos que se encuentran en el texto entre triples comillas\n",
    "```{seccion4}```\n",
    "\"\"\"\n",
    "response = get_completion(prompt,)\n",
    "seccion4=response\n",
    "articulo.write(seccion4+\"\\n\")"
   ]
  },
  {
   "cell_type": "code",
   "execution_count": 9,
   "metadata": {},
   "outputs": [
    {
     "name": "stdout",
     "output_type": "stream",
     "text": [
      "5. Conclusiones y reflexiones finales\n",
      "- Recapitulación de las limitaciones de ChatGPT\n",
      "- Reflexión sobre la importancia de seguir investigando y mejorando la tecnología de chatbots\n",
      "- Mención de otras tecnologías de inteligencia artificial que pueden superar las limitaciones de ChatGPT en el futuro.\n"
     ]
    }
   ],
   "source": [
    "prompt = f\"\"\"\n",
    "El texto entre triples comillas esta dividida en cinco secciones enumeradas del 1 al 5. Elimina todas las secciones excepto la 5\n",
    "```{estructura}```\n",
    "\"\"\"\n",
    "response = get_completion(prompt,)\n",
    "print(response)\n",
    "seccion5=response\n",
    "\n",
    "prompt = f\"\"\"\n",
    "Genera un texto a partir de los puntos que se encuentran en el texto entre triples comillas\n",
    "```{seccion5}```\n",
    "\"\"\"\n",
    "response = get_completion(prompt,)\n",
    "seccion5=response\n",
    "articulo.write(seccion5+\"\\n\")\n",
    "articulo.close()"
   ]
  }
 ],
 "metadata": {
  "kernelspec": {
   "display_name": "chatgpt",
   "language": "python",
   "name": "python3"
  },
  "language_info": {
   "codemirror_mode": {
    "name": "ipython",
    "version": 3
   },
   "file_extension": ".py",
   "mimetype": "text/x-python",
   "name": "python",
   "nbconvert_exporter": "python",
   "pygments_lexer": "ipython3",
   "version": "3.11.3"
  },
  "orig_nbformat": 4
 },
 "nbformat": 4,
 "nbformat_minor": 2
}
